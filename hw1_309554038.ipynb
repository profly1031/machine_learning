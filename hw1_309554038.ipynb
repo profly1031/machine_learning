{
 "cells": [
  {
   "cell_type": "code",
   "execution_count": 1,
   "metadata": {},
   "outputs": [],
   "source": [
    "import numpy as np\n",
    "import pandas as pd\n",
    "from random import sample, seed\n",
    "from itertools import combinations\n",
    "\n",
    "def m2(x):\n",
    "    A = np.append(np.ones((len(x),1)),x,axis=1)\n",
    "    comb = combinations([0, 1, 2, 3, 4, 5, 6, 7], 2)\n",
    "    for i in comb:\n",
    "        A = np.append(A, (x[:,i[0]]*x[:,i[1]]).reshape(-1,1),axis = 1)\n",
    "    return A\n",
    "\n",
    "def m1(x):\n",
    "    A = np.append(np.ones((len(x),1)),x,axis=1)\n",
    "    return A\n",
    "\n",
    "def m1_v1(x, d1):\n",
    "    A = np.ones((len(x),1))\n",
    "    A = np.append(A, x[:,d1].reshape(-1,1), axis = 1)\n",
    "    return A\n",
    "\n",
    "def m1_sigmoid(x):\n",
    "    A = 1/(1+np.exp(-m1(x)))\n",
    "    return A\n",
    "\n",
    "def m1_gaussian(x):\n",
    "    top = (x - np.mean(x, axis = 0))**2\n",
    "    down = 2*(np.std(x, axis=0)**2)\n",
    "    return np.exp(-(top/down))\n",
    "        \n",
    "    \n",
    "def lr(x,y):\n",
    "    A = x\n",
    "    AT = A.T\n",
    "    ATA = AT@A\n",
    "    ATA_inv_ATb = np.linalg.pinv(ATA)@AT@y\n",
    "    return ATA_inv_ATb\n",
    "    \n",
    "def lr_m1(x, y, d1):\n",
    "    x1 = x[:,d1].reshape(-1,1)\n",
    "    A = m1_v1(x, d1)\n",
    "    AT = A.T\n",
    "    ATA = AT@A\n",
    "    ATA_inv_ATb = np.linalg.pinv(ATA)@AT@y\n",
    "    return ATA_inv_ATb\n",
    "\n",
    "def lr_map(x, y , l):\n",
    "    A = x\n",
    "    AT = A.T\n",
    "    ATA = AT@A\n",
    "    L = l*np.identity(x.shape[1])\n",
    "    ATA_L = ATA + L\n",
    "    ATA_inv_ATb = np.linalg.pinv(ATA_L)@AT@y\n",
    "    return ATA_inv_ATb\n",
    "\n",
    "def cross_val(x_train, y_train, n_fold, m):\n",
    "    err = 0\n",
    "    for i in range(n_fold):\n",
    "        val_i = [i for i in range(int(len(x_train)/n_fold*i),int(len(x_train)/n_fold*(i+1)))]\n",
    "        trn_i = list(set(i for i in range(len(x_train)))-set(val_i))\n",
    "        if m == 1:\n",
    "            x_mx = m1(x_train)\n",
    "        elif m == 2:\n",
    "            x_mx = m2(x_train)\n",
    "        else:\n",
    "            print(\"Unvalid parameter\")\n",
    "        w = lr(x_mx[trn_i], y_train[trn_i])\n",
    "        err += rmse(w, x_mx[val_i], y_train[val_i])\n",
    "    err = err/n_fold\n",
    "    return err\n",
    "\n",
    "def rmse(w, x, y):\n",
    "    return np.sqrt(np.mean((x@w-y)**2))"
   ]
  },
  {
   "cell_type": "code",
   "execution_count": 2,
   "metadata": {},
   "outputs": [],
   "source": [
    "df_x = pd.read_csv('data_X.csv')\n",
    "df_y = pd.read_csv('data_T.csv')\n",
    "\n",
    "seed(100)\n",
    "np_x = np.array(df_x)\n",
    "np_y = np.array(df_y)\n",
    "trn_i = sample(range(len(np_x)),int(len(np_x)*0.8))\n",
    "tst_i = list(set(i for i in range(len(np_x)))-set(trn_i))"
   ]
  },
  {
   "cell_type": "markdown",
   "metadata": {},
   "source": [
    "## 1.a RMSE of m=1 and m=2"
   ]
  },
  {
   "cell_type": "code",
   "execution_count": 3,
   "metadata": {},
   "outputs": [
    {
     "name": "stdout",
     "output_type": "stream",
     "text": [
      "RMSE of training data with M=1: 69947.54503942489\n",
      "RMSE of testing data with M=1: 67987.91485157181\n"
     ]
    }
   ],
   "source": [
    "x_trn = m1(np_x[trn_i])\n",
    "y_trn = np_y[trn_i]\n",
    "x_tst = m1(np_x[tst_i])\n",
    "y_tst = np_y[tst_i]\n",
    "\n",
    "w = lr(x_trn, y_trn)\n",
    "print(\"RMSE of training data with M=1:\",rmse(w, x_trn, y_trn))\n",
    "print(\"RMSE of testing data with M=1:\",rmse(w, x_tst, y_tst))"
   ]
  },
  {
   "cell_type": "code",
   "execution_count": 4,
   "metadata": {},
   "outputs": [
    {
     "name": "stdout",
     "output_type": "stream",
     "text": [
      "RMSE of training data with M=2: 68571.39755855715\n",
      "RMSE of testing data with M=2: 66751.88323947506\n"
     ]
    }
   ],
   "source": [
    "x_trn = m2(np_x[trn_i])\n",
    "y_trn = np_y[trn_i]\n",
    "x_tst = m2(np_x[tst_i])\n",
    "y_tst = np_y[tst_i]\n",
    "\n",
    "w = lr(x_trn, y_trn)\n",
    "print(\"RMSE of training data with M=2:\",rmse(w, x_trn, y_trn))\n",
    "print(\"RMSE of testing data with M=2:\",rmse(w, x_tst, y_tst))"
   ]
  },
  {
   "cell_type": "markdown",
   "metadata": {},
   "source": [
    "## 1.b Feature selection"
   ]
  },
  {
   "cell_type": "code",
   "execution_count": 5,
   "metadata": {},
   "outputs": [
    {
     "name": "stdout",
     "output_type": "stream",
     "text": [
      "m=1 linear regression with feature longitude\n",
      "RMSE of training data: 115896.93215766865\n",
      "RMSE of testing data: 112989.33074355309\n",
      "-------------------------\n",
      "m=1 linear regression with feature latitude\n",
      "RMSE of training data: 114640.84539065433\n",
      "RMSE of testing data: 112546.30229815214\n",
      "-------------------------\n",
      "m=1 linear regression with feature housing_median_age\n",
      "RMSE of training data: 115289.42409690676\n",
      "RMSE of testing data: 112723.2620104834\n",
      "-------------------------\n",
      "m=1 linear regression with feature total_rooms\n",
      "RMSE of training data: 114903.0752862587\n",
      "RMSE of testing data: 112397.4906748178\n",
      "-------------------------\n",
      "m=1 linear regression with feature total_bedrooms\n",
      "RMSE of training data: 115823.50939163893\n",
      "RMSE of testing data: 113148.63563745568\n",
      "-------------------------\n",
      "m=1 linear regression with feature population\n",
      "RMSE of training data: 115939.21987036939\n",
      "RMSE of testing data: 113211.91065070733\n",
      "-------------------------\n",
      "m=1 linear regression with feature households\n",
      "RMSE of training data: 115724.38978674136\n",
      "RMSE of testing data: 113040.52911099019\n",
      "-------------------------\n",
      "m=1 linear regression with feature median_income\n",
      "RMSE of training data: 84012.21889863875\n",
      "RMSE of testing data: 82602.6764619216\n",
      "-------------------------\n"
     ]
    }
   ],
   "source": [
    "for i in range(8):\n",
    "    re = lr_m1(np_x[trn_i], np_y[trn_i], i)\n",
    "    x = m1_v1(np_x, i)\n",
    "    print(\"m=1 linear regression with feature\",df_x.columns[i])\n",
    "    print(\"RMSE of training data:\",rmse(re,x[trn_i],np_y[trn_i]))\n",
    "    print(\"RMSE of testing data:\",rmse(re,x[tst_i],np_y[tst_i]))\n",
    "    print(\"-------------------------\")"
   ]
  },
  {
   "cell_type": "markdown",
   "metadata": {},
   "source": [
    "## 2.b guassian Basis function "
   ]
  },
  {
   "cell_type": "code",
   "execution_count": 6,
   "metadata": {},
   "outputs": [
    {
     "name": "stdout",
     "output_type": "stream",
     "text": [
      "RMSE of training data with gaussian basis function: 116437.11495491366\n",
      "RMSE of testing data with gaussian basis function: 113731.68364539843\n"
     ]
    }
   ],
   "source": [
    "x_trn = m1_gaussian(np_x[trn_i])\n",
    "y_trn = np_y[trn_i]\n",
    "x_tst = m1_gaussian(np_x[tst_i])\n",
    "y_tst = np_y[tst_i]\n",
    "\n",
    "w = lr(x_trn, y_trn)\n",
    "print(\"RMSE of training data with gaussian basis function:\",rmse(w, x_trn, y_trn))\n",
    "print(\"RMSE of testing data with gaussian basis function:\",rmse(w, x_tst, y_tst))"
   ]
  },
  {
   "cell_type": "markdown",
   "metadata": {},
   "source": [
    "## 2.c N-fold Cross validation"
   ]
  },
  {
   "cell_type": "code",
   "execution_count": 7,
   "metadata": {},
   "outputs": [
    {
     "name": "stdout",
     "output_type": "stream",
     "text": [
      "Average RMSE of 5-fold cross validation with m=1: 70151.4693429532\n",
      "Average RMSE of 5-fold cross validation with m=2: 69603.9663386613\n"
     ]
    }
   ],
   "source": [
    "print(\"Average RMSE of 5-fold cross validation with m=1:\",cross_val(np_x[trn_i], np_y[trn_i], 5, 1))\n",
    "print(\"Average RMSE of 5-fold cross validation with m=2:\",cross_val(np_x[trn_i], np_y[trn_i], 5, 2))"
   ]
  },
  {
   "cell_type": "markdown",
   "metadata": {},
   "source": [
    "## 3.b MAP with gaussian"
   ]
  },
  {
   "cell_type": "code",
   "execution_count": 9,
   "metadata": {},
   "outputs": [
    {
     "name": "stdout",
     "output_type": "stream",
     "text": [
      "RMSE of training data with MAP: 116437.47128591538\n",
      "RMSE of testing data with MAP: 113741.02810992872\n"
     ]
    }
   ],
   "source": [
    "x_trn = m1_gaussian(np_x[trn_i])\n",
    "y_trn = np_y[trn_i]\n",
    "x_tst = m1_gaussian(np_x[tst_i])\n",
    "y_tst = np_y[tst_i]\n",
    "\n",
    "w = lr_map(x_trn, y_trn, 1)\n",
    "print(\"RMSE of training data with MAP:\",rmse(w, x_trn, y_trn))\n",
    "print(\"RMSE of testing data with MAP:\",rmse(w, x_tst, y_tst))"
   ]
  },
  {
   "cell_type": "code",
   "execution_count": null,
   "metadata": {},
   "outputs": [],
   "source": []
  }
 ],
 "metadata": {
  "interpreter": {
   "hash": "b445ccfa557170e9a1397e58540c0ba15a3370c0d87db55f340afe85843e37a4"
  },
  "kernelspec": {
   "display_name": "Python 3",
   "language": "python",
   "name": "python3"
  },
  "language_info": {
   "codemirror_mode": {
    "name": "ipython",
    "version": 3
   },
   "file_extension": ".py",
   "mimetype": "text/x-python",
   "name": "python",
   "nbconvert_exporter": "python",
   "pygments_lexer": "ipython3",
   "version": "3.8.3"
  }
 },
 "nbformat": 4,
 "nbformat_minor": 4
}
